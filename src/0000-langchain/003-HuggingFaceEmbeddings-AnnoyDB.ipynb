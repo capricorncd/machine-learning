{
 "cells": [
  {
   "cell_type": "code",
   "execution_count": 1,
   "id": "a446f1f8",
   "metadata": {},
   "outputs": [],
   "source": [
    "!pip -q install langchain huggingface_hub python-dotenv sentence_transformers"
   ]
  },
  {
   "cell_type": "code",
   "execution_count": 2,
   "id": "b356f5a2",
   "metadata": {},
   "outputs": [],
   "source": [
    "!pip -q install annoy"
   ]
  },
  {
   "cell_type": "code",
   "execution_count": 3,
   "id": "a3fe9d5a",
   "metadata": {},
   "outputs": [
    {
     "data": {
      "text/plain": [
       "True"
      ]
     },
     "execution_count": 3,
     "metadata": {},
     "output_type": "execute_result"
    }
   ],
   "source": [
    "from dotenv import load_dotenv\n",
    "\n",
    "load_dotenv()"
   ]
  },
  {
   "cell_type": "code",
   "execution_count": 4,
   "id": "a717ba49",
   "metadata": {},
   "outputs": [],
   "source": [
    "from langchain.embeddings import HuggingFaceEmbeddings\n",
    "from langchain.vectorstores import Annoy"
   ]
  },
  {
   "cell_type": "code",
   "execution_count": 5,
   "id": "6c4e45a9",
   "metadata": {
    "scrolled": true
   },
   "outputs": [],
   "source": [
    "embeddings = HuggingFaceEmbeddings()"
   ]
  },
  {
   "cell_type": "code",
   "execution_count": 6,
   "id": "21b1836e",
   "metadata": {},
   "outputs": [],
   "source": [
    "texts = [\"pizza is great\", \"I love salad\", \"my car\", \"a dog\"]\n",
    "\n",
    "vector_store = Annoy.from_texts(texts, embeddings)"
   ]
  },
  {
   "cell_type": "code",
   "execution_count": 7,
   "id": "a57cdc61",
   "metadata": {},
   "outputs": [
    {
     "data": {
      "text/plain": [
       "[Document(page_content='pizza is great', metadata={}),\n",
       " Document(page_content='I love salad', metadata={}),\n",
       " Document(page_content='my car', metadata={})]"
      ]
     },
     "execution_count": 7,
     "metadata": {},
     "output_type": "execute_result"
    }
   ],
   "source": [
    "vector_store.similarity_search(\"food\", k=3)"
   ]
  },
  {
   "cell_type": "code",
   "execution_count": 8,
   "id": "12d20f3f",
   "metadata": {},
   "outputs": [
    {
     "data": {
      "text/plain": [
       "[(Document(page_content='pizza is great', metadata={}), 1.094439148902893),\n",
       " (Document(page_content='I love salad', metadata={}), 1.127318263053894),\n",
       " (Document(page_content='my car', metadata={}), 1.1580758094787598)]"
      ]
     },
     "execution_count": 8,
     "metadata": {},
     "output_type": "execute_result"
    }
   ],
   "source": [
    "vector_store.similarity_search_with_score(\"food\", k=3)"
   ]
  },
  {
   "cell_type": "code",
   "execution_count": 9,
   "id": "95510d2b",
   "metadata": {},
   "outputs": [
    {
     "data": {
      "text/plain": [
       "[Document(page_content='pizza is great', metadata={}),\n",
       " Document(page_content='I love salad', metadata={}),\n",
       " Document(page_content='my car', metadata={})]"
      ]
     },
     "execution_count": 9,
     "metadata": {},
     "output_type": "execute_result"
    }
   ],
   "source": [
    "vector_store_v2 = Annoy.from_texts(texts, embeddings, metric=\"dot\", n_tress=100, n_jobs=1)\n",
    "vector_store_v2.similarity_search(\"food\", k=3)"
   ]
  },
  {
   "cell_type": "code",
   "execution_count": null,
   "id": "f4b0da0b",
   "metadata": {},
   "outputs": [],
   "source": []
  },
  {
   "cell_type": "code",
   "execution_count": null,
   "id": "49ebf8ae",
   "metadata": {},
   "outputs": [],
   "source": []
  },
  {
   "cell_type": "code",
   "execution_count": null,
   "id": "ea09c386",
   "metadata": {},
   "outputs": [],
   "source": []
  },
  {
   "cell_type": "code",
   "execution_count": null,
   "id": "e2499af7",
   "metadata": {},
   "outputs": [],
   "source": []
  },
  {
   "cell_type": "code",
   "execution_count": null,
   "id": "ddfe3e69",
   "metadata": {},
   "outputs": [],
   "source": []
  },
  {
   "cell_type": "code",
   "execution_count": null,
   "id": "c4d986f2",
   "metadata": {},
   "outputs": [],
   "source": []
  },
  {
   "cell_type": "code",
   "execution_count": null,
   "id": "ea394efb",
   "metadata": {},
   "outputs": [],
   "source": []
  },
  {
   "cell_type": "code",
   "execution_count": null,
   "id": "82670c9f",
   "metadata": {},
   "outputs": [],
   "source": []
  }
 ],
 "metadata": {
  "kernelspec": {
   "display_name": "Python 3 (ipykernel)",
   "language": "python",
   "name": "python3"
  },
  "language_info": {
   "codemirror_mode": {
    "name": "ipython",
    "version": 3
   },
   "file_extension": ".py",
   "mimetype": "text/x-python",
   "name": "python",
   "nbconvert_exporter": "python",
   "pygments_lexer": "ipython3",
   "version": "3.10.9"
  }
 },
 "nbformat": 4,
 "nbformat_minor": 5
}
