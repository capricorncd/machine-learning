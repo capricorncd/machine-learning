{
 "cells": [
  {
   "cell_type": "code",
   "execution_count": 1,
   "id": "e6099e36",
   "metadata": {},
   "outputs": [],
   "source": [
    "!pip -q install langchain huggingface_hub python-dotenv"
   ]
  },
  {
   "cell_type": "code",
   "execution_count": 2,
   "id": "1aadb886",
   "metadata": {},
   "outputs": [
    {
     "data": {
      "text/plain": [
       "True"
      ]
     },
     "execution_count": 2,
     "metadata": {},
     "output_type": "execute_result"
    }
   ],
   "source": [
    "from dotenv import load_dotenv\n",
    "\n",
    "load_dotenv()"
   ]
  },
  {
   "cell_type": "markdown",
   "id": "dab8683e",
   "metadata": {},
   "source": [
    "### Basic LLMChain"
   ]
  },
  {
   "cell_type": "code",
   "execution_count": 3,
   "id": "bf42e560",
   "metadata": {},
   "outputs": [],
   "source": [
    "from langchain.prompts import PromptTemplate\n",
    "from langchain.llms import HuggingFaceHub\n",
    "from langchain.chains import LLMChain"
   ]
  },
  {
   "cell_type": "code",
   "execution_count": 4,
   "id": "32881839",
   "metadata": {},
   "outputs": [],
   "source": [
    "llm = HuggingFaceHub(\n",
    "    repo_id=\"google/flan-t5-large\",\n",
    "    model_kwargs={\"temperature\": 0}\n",
    ")"
   ]
  },
  {
   "cell_type": "code",
   "execution_count": 5,
   "id": "1ff3c1cb",
   "metadata": {},
   "outputs": [
    {
     "data": {
      "text/plain": [
       "1603"
      ]
     },
     "execution_count": 5,
     "metadata": {},
     "output_type": "execute_result"
    }
   ],
   "source": [
    "article = \"\"\"ChatGPT is an artificial intelligence chatbot developed by OpenAI and launched on November 30, 2022. It is notable for enabling users to refine and steer a conversation towards a desired length, format, style, level of detail, and language used. Successive prompts and replies are taken into account at each stage of the conversation as a context. While its content spans various domains of knowledge, ChatGPT has displayed a tendency to confidently provide inaccurate information.\n",
    "By January 2023, it had become the fastest-growing consumer software application in history, gaining over 100 million users and contributing to OpenAI's valuation growing to US$29 billion. Within months, other businesses accelerated competing products such as Google's PaLM-E, Baidu's ERNIE, and Meta's LLaMA.[6] Some observers expressed concern over the potential of ChatGPT to displace or atrophy human intelligence, and its potential to enable plagiarism or fuel misinformation.\n",
    "ChatGPT is built upon GPT-3.5 and GPT-4, from OpenAI's proprietary series of foundational GPT models. These large language models (LLMs) have been fine-tuned for conversational applications using a combination of supervised and reinforcement learning techniques. ChatGPT was released as a freely available research preview, but due to its popularity, OpenAI now operates the service on a freemium model. It allows users on its free tier to access the GPT-3.5 based version, while the more-advanced GPT-4 based version, as well as priority access to newer features, are provided to paid subscribers under the commercial name 'ChatGPT Plus'.\"\"\"\n",
    "len(article)"
   ]
  },
  {
   "cell_type": "code",
   "execution_count": 6,
   "id": "e018dabf",
   "metadata": {},
   "outputs": [],
   "source": [
    "fact_extraction_prompt = PromptTemplate(\n",
    "    input_variables=[\"text_input\"],\n",
    "    template=\"Extract the key facts out of this text. Don't include opinions. Give each fact a number and keep them short sentences. \\n\\n{text_input}\"\n",
    ")"
   ]
  },
  {
   "cell_type": "code",
   "execution_count": 7,
   "id": "7f8314f1",
   "metadata": {},
   "outputs": [],
   "source": [
    "fact_extraction_chain = LLMChain(llm=llm, prompt=fact_extraction_prompt, verbose=False)\n",
    "\n",
    "facts = fact_extraction_chain.run(article)"
   ]
  },
  {
   "cell_type": "code",
   "execution_count": 8,
   "id": "79e48193",
   "metadata": {},
   "outputs": [],
   "source": [
    "investor_update_prompt = PromptTemplate(\n",
    "    input_variables=[\"facts\"],\n",
    "    template=\"You are a Goldman Sachs analyst. Take the following list of facts and use them to write a short paragrah for investors. Don't leave out key info:\\n\\n{facts}\"\n",
    ")"
   ]
  },
  {
   "cell_type": "code",
   "execution_count": 9,
   "id": "12ed5f22",
   "metadata": {},
   "outputs": [
    {
     "name": "stdout",
     "output_type": "stream",
     "text": [
      "\n",
      "\n",
      "\u001b[1m> Entering new LLMChain chain...\u001b[0m\n",
      "Prompt after formatting:\n",
      "\u001b[32;1m\u001b[1;3mYou are a Goldman Sachs analyst. Take the following list of facts and use them to write a short paragrah for investors. Don't leave out key info:\n",
      "\n",
      "ChatGPT is an artificial intelligence chatbot developed by OpenAI and launched on November 30, 20\u001b[0m\n",
      "\n",
      "\u001b[1m> Finished chain.\u001b[0m\n"
     ]
    },
    {
     "data": {
      "text/plain": [
       "'ChatGPT is an artificial intelligence chatbot developed by OpenAI and launched on November 30, 20'"
      ]
     },
     "execution_count": 9,
     "metadata": {},
     "output_type": "execute_result"
    }
   ],
   "source": [
    "investor_update_chain = LLMChain(llm=llm, prompt=investor_update_prompt, verbose=True)\n",
    "\n",
    "investor_update_chain.run(facts)"
   ]
  },
  {
   "cell_type": "code",
   "execution_count": 10,
   "id": "42d5d4f1",
   "metadata": {},
   "outputs": [],
   "source": [
    "triples_prompt = PromptTemplate(\n",
    "    input_variables=[\"facts\"],\n",
    "    template=\"Take the following list of facts and turn them into triples for a knowledge graph:\\n\\n {facts}\"\n",
    ")"
   ]
  },
  {
   "cell_type": "code",
   "execution_count": 11,
   "id": "9a6320bd",
   "metadata": {},
   "outputs": [
    {
     "name": "stdout",
     "output_type": "stream",
     "text": [
      "\n",
      "\n",
      "\u001b[1m> Entering new LLMChain chain...\u001b[0m\n",
      "Prompt after formatting:\n",
      "\u001b[32;1m\u001b[1;3mTake the following list of facts and turn them into triples for a knowledge graph:\n",
      "\n",
      " ChatGPT is an artificial intelligence chatbot developed by OpenAI and launched on November 30, 20\u001b[0m\n",
      "\n",
      "\u001b[1m> Finished chain.\u001b[0m\n",
      "ChatGPT ORIGINAL_NAMES \"ChatGPT\" ChatGPT\n"
     ]
    },
    {
     "data": {
      "text/plain": [
       "40"
      ]
     },
     "execution_count": 11,
     "metadata": {},
     "output_type": "execute_result"
    }
   ],
   "source": [
    "triples_chain = LLMChain(llm=llm, prompt=triples_prompt, verbose=True)\n",
    "\n",
    "triples = triples_chain.run(facts)\n",
    "print(triples)\n",
    "len(triples)"
   ]
  },
  {
   "cell_type": "markdown",
   "id": "f369881e",
   "metadata": {},
   "source": [
    "### Chaining these together"
   ]
  },
  {
   "cell_type": "code",
   "execution_count": 12,
   "id": "fd42dc5d",
   "metadata": {},
   "outputs": [],
   "source": [
    "from langchain.chains import SimpleSequentialChain, SequentialChain\n",
    "\n",
    "# A -> B -> C -> ...\n",
    "full_chain = SimpleSequentialChain(chains=[fact_extraction_chain, investor_update_chain], verbose=True)"
   ]
  },
  {
   "cell_type": "code",
   "execution_count": 13,
   "id": "1134522b",
   "metadata": {},
   "outputs": [
    {
     "name": "stdout",
     "output_type": "stream",
     "text": [
      "\n",
      "\n",
      "\u001b[1m> Entering new SimpleSequentialChain chain...\u001b[0m\n",
      "\u001b[36;1m\u001b[1;3mChatGPT is an artificial intelligence chatbot developed by OpenAI and launched on November 30, 20\u001b[0m\n",
      "\n",
      "\n",
      "\u001b[1m> Entering new LLMChain chain...\u001b[0m\n",
      "Prompt after formatting:\n",
      "\u001b[32;1m\u001b[1;3mYou are a Goldman Sachs analyst. Take the following list of facts and use them to write a short paragrah for investors. Don't leave out key info:\n",
      "\n",
      "ChatGPT is an artificial intelligence chatbot developed by OpenAI and launched on November 30, 20\u001b[0m\n",
      "\n",
      "\u001b[1m> Finished chain.\u001b[0m\n",
      "\u001b[33;1m\u001b[1;3mChatGPT is an artificial intelligence chatbot developed by OpenAI and launched on November 30, 20\u001b[0m\n",
      "\n",
      "\u001b[1m> Finished chain.\u001b[0m\n"
     ]
    },
    {
     "data": {
      "text/plain": [
       "'ChatGPT is an artificial intelligence chatbot developed by OpenAI and launched on November 30, 20'"
      ]
     },
     "execution_count": 13,
     "metadata": {},
     "output_type": "execute_result"
    }
   ],
   "source": [
    "full_chain.run(article)"
   ]
  },
  {
   "cell_type": "markdown",
   "id": "e176fb53",
   "metadata": {},
   "source": [
    "### PAL Math Chain"
   ]
  },
  {
   "cell_type": "code",
   "execution_count": 14,
   "id": "47c2b4ea",
   "metadata": {},
   "outputs": [],
   "source": [
    "from langchain.chains import PALChain"
   ]
  },
  {
   "cell_type": "code",
   "execution_count": 15,
   "id": "9edc95da",
   "metadata": {},
   "outputs": [],
   "source": [
    "pal_chain = PALChain.from_math_prompt(llm, verbose=True)"
   ]
  },
  {
   "cell_type": "code",
   "execution_count": 16,
   "id": "a8d1b2fc",
   "metadata": {},
   "outputs": [
    {
     "name": "stdout",
     "output_type": "stream",
     "text": [
      "\n",
      "\n",
      "\u001b[1m> Entering new PALChain chain...\u001b[0m\n",
      "\u001b[32;1m\u001b[1;3mdef solution(): \"\"\"3 + 5 = ? \"\"\" return \u001b[0m\n",
      "\n",
      "\u001b[1m> Finished chain.\u001b[0m\n"
     ]
    },
    {
     "data": {
      "text/plain": [
       "'SyntaxError(\\'invalid syntax\\', (\\'<string>\\', 1, 34, \\'def solution(): \"\"\"3 + 5 = ? \"\"\" return \\\\n\\', 1, 40))'"
      ]
     },
     "execution_count": 16,
     "metadata": {},
     "output_type": "execute_result"
    }
   ],
   "source": [
    "question = \"3 + 5 = ?\"\n",
    "pal_chain.run(question)"
   ]
  },
  {
   "cell_type": "markdown",
   "id": "5478ba01",
   "metadata": {},
   "source": [
    "### API Chain"
   ]
  },
  {
   "cell_type": "code",
   "execution_count": 17,
   "id": "2241cf74",
   "metadata": {},
   "outputs": [],
   "source": [
    "from langchain.chains.api.prompt import API_RESPONSE_PROMPT\n",
    "\n",
    "from langchain.chains import APIChain\n",
    "from langchain.prompts.prompt import PromptTemplate"
   ]
  },
  {
   "cell_type": "code",
   "execution_count": 18,
   "id": "c52c09fa",
   "metadata": {},
   "outputs": [],
   "source": [
    "from apis.food_list import API_DOCS\n",
    "api_chain = APIChain.from_llm_and_api_docs(llm, API_DOCS, verbose=True)"
   ]
  },
  {
   "cell_type": "code",
   "execution_count": 19,
   "id": "86b98f9d",
   "metadata": {},
   "outputs": [
    {
     "name": "stdout",
     "output_type": "stream",
     "text": [
      "\n",
      "\n",
      "\u001b[1m> Entering new APIChain chain...\u001b[0m\n",
      "api_url= http://localhost:3000/v1/foods a='' b\n",
      "\u001b[32;1m\u001b[1;3mhttp://localhost:3000/v1/foods a='' b\u001b[0m\n",
      "\u001b[33;1m\u001b[1;3m[\"Salmon\",\"Xiao Long Bao\",\"Twice Cooked Pork\",\"Lanzhou noodles\"]\u001b[0m\n",
      "\n",
      "\u001b[1m> Finished chain.\u001b[0m\n"
     ]
    },
    {
     "data": {
      "text/plain": [
       "\"a='' b\""
      ]
     },
     "execution_count": 19,
     "metadata": {},
     "output_type": "execute_result"
    }
   ],
   "source": [
    "api_chain.run(\"Please suggest some food for me\")"
   ]
  },
  {
   "cell_type": "code",
   "execution_count": null,
   "id": "4c161918",
   "metadata": {},
   "outputs": [],
   "source": []
  }
 ],
 "metadata": {
  "kernelspec": {
   "display_name": "Python 3 (ipykernel)",
   "language": "python",
   "name": "python3"
  },
  "language_info": {
   "codemirror_mode": {
    "name": "ipython",
    "version": 3
   },
   "file_extension": ".py",
   "mimetype": "text/x-python",
   "name": "python",
   "nbconvert_exporter": "python",
   "pygments_lexer": "ipython3",
   "version": "3.10.9"
  }
 },
 "nbformat": 4,
 "nbformat_minor": 5
}
